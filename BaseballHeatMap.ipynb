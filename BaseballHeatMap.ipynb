{
 "cells": [
  {
   "cell_type": "markdown",
   "metadata": {},
   "source": [
    "Recently, I needed to make a heatmap with a dendrogram for work.  The only libraries that I could find with that particular template were [seaborn](https://stanford.edu/~mwaskom/software/seaborn/) or [plotly](https://plot.ly/) (the latter being a pretty awesome tool I just recently found out about).  However, my familiarity with [bokeh](http://bokeh.pydata.org/en/latest/) was gravitating me towards it.  After stumbling upon [this](http://stackoverflow.com/questions/23578753/how-to-make-a-cluster-style-dendrogram-in-bokeh) StackOverflow question, it seemed like no code was available.  The more I program the more I find myself prefering to make code graphs myself, rather than using a template.  So, I figured I take a stab at it.  Here is a heatmap clustering the MLB teams by batting statistics.  \n",
    "\n",
    "First import the standards..."
   ]
  },
  {
   "cell_type": "code",
   "execution_count": 7,
   "metadata": {},
   "outputs": [],
   "source": [
    "import pandas as pd\n",
    "import numpy as np"
   ]
  },
  {
   "cell_type": "markdown",
   "metadata": {},
   "source": [
    "Load team colors and batting data downloaded from [baseball reference](http://www.baseball-reference.com/).  "
   ]
  },
  {
   "cell_type": "code",
   "execution_count": 8,
   "metadata": {},
   "outputs": [],
   "source": [
    "colors_df = pd.read_csv('data/colors.csv', index_col=0)\n",
    "\n",
    "df = pd.read_csv('data/2016_teams_standard_batting_8_31_16.csv', index_col=0)\n",
    "\n",
    "colors_df = colors_df.loc[df.index]"
   ]
  },
  {
   "cell_type": "markdown",
   "metadata": {},
   "source": [
    "Scale each batting stat to [0,1] so I can use color intensity to compare teams.  Do a little housekeeping on the colors data as well.  "
   ]
  },
  {
   "cell_type": "code",
   "execution_count": 9,
   "metadata": {},
   "outputs": [],
   "source": [
    "df_std = (df - df.min(axis=0)) / (df.max(axis=0) - df.min(axis=0))\n",
    "df_scaled = df_std * (1.0 - 0.0) + 0.0\n",
    "\n",
    "names = colors_df['Teams']\n",
    "colors_df.drop(['Teams', 'Abbrv.1'], axis=1, inplace=True)"
   ]
  },
  {
   "cell_type": "markdown",
   "metadata": {},
   "source": [
    "Write a function that will generate a random color from a team's color palette.  "
   ]
  },
  {
   "cell_type": "code",
   "execution_count": 10,
   "metadata": {},
   "outputs": [],
   "source": [
    "def color_gen(tm):\n",
    "    \"\"\" function to generate a random color from a given team thats not white\"\"\"\n",
    "    from random import randint\n",
    "    color = '#FFFFFF'\n",
    "    while color == '#FFFFFF':\n",
    "        color = colors_df.loc[tm][randint(0, len(colors_df.loc[tm].dropna())-1)]\n",
    "    return color"
   ]
  },
  {
   "cell_type": "markdown",
   "metadata": {},
   "source": [
    "[Partial](https://docs.python.org/2/library/functools.html) is a pretty useful function for \"loading\" a bunch of functions each with different parameters.  Here I use partial to create a dictionary where the keys are team names and the value is a the `color_gem` function, with that particular team already passed as an argument.  "
   ]
  },
  {
   "cell_type": "code",
   "execution_count": 11,
   "metadata": {},
   "outputs": [],
   "source": [
    "from functools import partial\n",
    "color_map = dict([(tm, partial(color_gen, tm)) for tm in colors_df.index.tolist()])"
   ]
  },
  {
   "cell_type": "markdown",
   "metadata": {},
   "source": [
    "I create the dendrogram using the [SciPy's dendrogram](http://docs.scipy.org/doc/scipy-0.14.0/reference/generated/scipy.cluster.hierarchy.dendrogram.html) function.  The function takes a linkage matrix `Z` and returns a dictionary of objects, two of which are the horiztonal and vertical line coordinates of the dendorogram.  A third object, `ivl`, a list of a labels mapping the original order of the teams, to their order in the dendorgram (from top to bottom)."
   ]
  },
  {
   "cell_type": "code",
   "execution_count": 12,
   "metadata": {},
   "outputs": [
    {
     "name": "stderr",
     "output_type": "stream",
     "text": [
      "C:\\Users\\Malav\\Anaconda3\\lib\\site-packages\\ipykernel_launcher.py:5: ClusterWarning: scipy.cluster: The symmetric non-negative hollow observation matrix looks suspiciously like an uncondensed distance matrix\n",
      "  \"\"\"\n"
     ]
    }
   ],
   "source": [
    "from sklearn.metrics.pairwise import pairwise_distances\n",
    "from scipy.cluster.hierarchy import linkage, dendrogram\n",
    "\n",
    "X = pairwise_distances(df.values, metric='euclidean')\n",
    "Z = linkage(X, 'ward')\n",
    "results = dendrogram(Z, no_plot=True)\n",
    "icoord, dcoord = results['icoord'], results['dcoord']\n",
    "labels = list(map(int, results['ivl']))\n",
    "df = df.iloc[labels]\n",
    "df_scaled = df_scaled.iloc[labels]"
   ]
  },
  {
   "cell_type": "markdown",
   "metadata": {},
   "source": [
    "I reshape the data a bit to make it work with bokeh's tooltips.  A hover tool that allows you to see the data associated with a certain object on the plot.  "
   ]
  },
  {
   "cell_type": "code",
   "execution_count": 13,
   "metadata": {},
   "outputs": [],
   "source": [
    "tms = []\n",
    "batting = []\n",
    "xs = []\n",
    "ys = []\n",
    "colors = []\n",
    "alpha = []\n",
    "value = []\n",
    "\n",
    "for i, tm in enumerate(df.index):\n",
    "    tms = tms + [tm]*len(df.columns)\n",
    "    batting = batting + df.columns.tolist()\n",
    "    xs = xs + list(np.arange(0.5, len(df.columns)+0.5))\n",
    "    ys = ys + [i+0.5]*len(df.columns)\n",
    "    colors = colors + [color_map[tm]() for i in range(len(df.columns))]\n",
    "    value = value + df.loc[tm].tolist()\n",
    "    alpha = alpha + df_scaled.loc[tm].tolist()"
   ]
  },
  {
   "cell_type": "markdown",
   "metadata": {},
   "source": [
    "The rest is just plotting."
   ]
  },
  {
   "cell_type": "code",
   "execution_count": 14,
   "metadata": {},
   "outputs": [
    {
     "ename": "ImportError",
     "evalue": "cannot import name 'ResizeTool'",
     "output_type": "error",
     "traceback": [
      "\u001b[1;31m---------------------------------------------------------------------------\u001b[0m",
      "\u001b[1;31mImportError\u001b[0m                               Traceback (most recent call last)",
      "\u001b[1;32m<ipython-input-14-333ab674f70b>\u001b[0m in \u001b[0;36m<module>\u001b[1;34m\u001b[0m\n\u001b[0;32m      1\u001b[0m \u001b[1;32mfrom\u001b[0m \u001b[0mbokeh\u001b[0m\u001b[1;33m.\u001b[0m\u001b[0mplotting\u001b[0m \u001b[1;32mimport\u001b[0m \u001b[0mfigure\u001b[0m\u001b[1;33m,\u001b[0m \u001b[0moutput_file\u001b[0m\u001b[1;33m\u001b[0m\u001b[1;33m\u001b[0m\u001b[0m\n\u001b[0;32m      2\u001b[0m \u001b[1;32mfrom\u001b[0m \u001b[0mbokeh\u001b[0m\u001b[1;33m.\u001b[0m\u001b[0mmodels\u001b[0m\u001b[1;33m.\u001b[0m\u001b[0msources\u001b[0m \u001b[1;32mimport\u001b[0m \u001b[0mColumnDataSource\u001b[0m\u001b[1;33m\u001b[0m\u001b[1;33m\u001b[0m\u001b[0m\n\u001b[1;32m----> 3\u001b[1;33m \u001b[1;32mfrom\u001b[0m \u001b[0mbokeh\u001b[0m\u001b[1;33m.\u001b[0m\u001b[0mmodels\u001b[0m \u001b[1;32mimport\u001b[0m \u001b[0mHoverTool\u001b[0m\u001b[1;33m,\u001b[0m \u001b[0mResizeTool\u001b[0m\u001b[1;33m,\u001b[0m \u001b[0mSaveTool\u001b[0m\u001b[1;33m\u001b[0m\u001b[1;33m\u001b[0m\u001b[0m\n\u001b[0m\u001b[0;32m      4\u001b[0m \u001b[1;33m\u001b[0m\u001b[0m\n\u001b[0;32m      5\u001b[0m data = pd.DataFrame(dict(\n",
      "\u001b[1;31mImportError\u001b[0m: cannot import name 'ResizeTool'"
     ]
    }
   ],
   "source": [
    "from bokeh.plotting import figure, output_file\n",
    "from bokeh.models.sources import ColumnDataSource\n",
    "from bokeh.models import HoverTool, ResizeTool, SaveTool\n",
    "\n",
    "data = pd.DataFrame(dict(\n",
    "        tms=tms,\n",
    "        batting=batting,\n",
    "        xs=xs,\n",
    "        ys=ys,\n",
    "        colors=colors,\n",
    "        value=value,\n",
    "        alpha=alpha\n",
    "              ))\n",
    "\n",
    "source = ColumnDataSource(data)\n",
    "\n",
    "hover = HoverTool()\n",
    "\n",
    "hover.tooltips = [\n",
    "    (\"Team\", \"@tms\"),\n",
    "    (\"Batting Stat\", (\"@batting: @value\")),\n",
    "    (\"Value\", \"@value\")\n",
    "]\n",
    "\n",
    "height, width = df.shape\n",
    "\n",
    "icoord = pd.DataFrame(icoord)\n",
    "icoord = icoord * (data['ys'].max() / icoord.max().max())\n",
    "icoord = icoord.values\n",
    "\n",
    "dcoord = pd.DataFrame(dcoord)\n",
    "dcoord = dcoord * (data['xs'].max() / dcoord.max().max())\n",
    "dcoord = dcoord.values\n",
    "\n",
    "\n",
    "hm = figure(x_range=[-40, 40],\n",
    "            #y_range=[0, icoord.max()],\n",
    "            height=800,\n",
    "            width=800,\n",
    "            tools=[ \n",
    "                    ResizeTool(), \n",
    "                    SaveTool()],\n",
    "            webgl=True\n",
    ")\n",
    "\n",
    "for i, d in zip(icoord, dcoord):\n",
    "    d = list(map(lambda x: -x, d))\n",
    "    hm.line(x=d, y=i, line_color='black')\n",
    "\n",
    "hm.add_tools(hover)\n",
    "\n",
    "\n",
    "hm.rect(x='xs', y='ys',\n",
    "        height=1,\n",
    "        width=1,\n",
    "        fill_color='colors',\n",
    "        line_color='black',\n",
    "        source=source,\n",
    "        line_alpha=0.2,\n",
    "        fill_alpha='alpha'\n",
    "        \n",
    "        )\n",
    "hm.text([data['xs'].max()+0.51] * len(data['tms'].unique()), \n",
    "        data['ys'].unique().tolist(), \n",
    "        text=[nm for nm in names.iloc[labels]],\n",
    "        text_baseline='middle',\n",
    "        text_font_size='6pt'\n",
    "       \n",
    "       )\n",
    "\n",
    "hm.axis.major_tick_line_color = None\n",
    "hm.axis.minor_tick_line_color = None\n",
    "hm.axis.major_label_text_color = None\n",
    "hm.axis.major_label_text_font_size = '0pt'\n",
    "hm.axis.axis_line_color = None\n",
    "hm.grid.grid_line_color = None\n",
    "hm.outline_line_color = None"
   ]
  },
  {
   "cell_type": "code",
   "execution_count": null,
   "metadata": {},
   "outputs": [],
   "source": [
    "from bokeh.plotting import output_notebook, show"
   ]
  },
  {
   "cell_type": "code",
   "execution_count": null,
   "metadata": {},
   "outputs": [],
   "source": [
    "output_notebook()\n"
   ]
  },
  {
   "cell_type": "code",
   "execution_count": null,
   "metadata": {},
   "outputs": [],
   "source": [
    "show(hm)"
   ]
  },
  {
   "cell_type": "markdown",
   "metadata": {},
   "source": [
    "In the heatmap, MLB leaders have higher color intensities.  It looks like their are two distinct clusters, with the bottom half of the heatmap having much more faded/white color spots.  Not surprisingly, a majority of the division leaders (sans the Dodgers) are in the top half of the map.\n",
    "\n",
    "All the code and data are available on my github page: https://github.com/russodanielp/bokeh_plots."
   ]
  }
 ],
 "metadata": {
  "anaconda-cloud": {},
  "kernelspec": {
   "display_name": "Python 3",
   "language": "python",
   "name": "python3"
  },
  "language_info": {
   "codemirror_mode": {
    "name": "ipython",
    "version": 3
   },
   "file_extension": ".py",
   "mimetype": "text/x-python",
   "name": "python",
   "nbconvert_exporter": "python",
   "pygments_lexer": "ipython3",
   "version": "3.6.8"
  }
 },
 "nbformat": 4,
 "nbformat_minor": 1
}
