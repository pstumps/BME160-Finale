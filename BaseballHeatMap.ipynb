{
 "cells": [
  {
   "cell_type": "markdown",
   "metadata": {},
   "source": [
    "Recently, I needed to make a heatmap with a dendrogram for work.  The only libraries that I could find with that particular template were [seaborn](https://stanford.edu/~mwaskom/software/seaborn/) or [plotly](https://plot.ly/) (the latter being a pretty awesome tool I just recently found out about).  However, my familiarity with [bokeh](http://bokeh.pydata.org/en/latest/) was gravitating me towards it.  After stumbling upon [this](http://stackoverflow.com/questions/23578753/how-to-make-a-cluster-style-dendrogram-in-bokeh) StackOverflow question, it seemed like no code was available.  The more I program the more I find myself prefering to make code graphs myself, rather than using a template.  So, I figured I take a stab at it.  Here is a heatmap clustering the MLB teams by batting statistics.  \n",
    "\n",
    "First import the standards..."
   ]
  },
  {
   "cell_type": "code",
   "execution_count": 2,
   "metadata": {},
   "outputs": [],
   "source": [
    "import pandas as pd\n",
    "import numpy as np"
   ]
  },
  {
   "cell_type": "markdown",
   "metadata": {},
   "source": [
    "Load team colors and batting data downloaded from [baseball reference](http://www.baseball-reference.com/).  "
   ]
  },
  {
   "cell_type": "code",
   "execution_count": 3,
   "metadata": {},
   "outputs": [],
   "source": [
    "colors_df = pd.read_csv('data/colors.csv', index_col=0)\n",
    "\n",
    "df = pd.read_csv('data/2016_teams_standard_batting_8_31_16.csv', index_col=0)\n",
    "\n",
    "colors_df = colors_df.loc[df.index]"
   ]
  },
  {
   "cell_type": "markdown",
   "metadata": {},
   "source": [
    "Scale each batting stat to [0,1] so I can use color intensity to compare teams.  Do a little housekeeping on the colors data as well.  "
   ]
  },
  {
   "cell_type": "code",
   "execution_count": 5,
   "metadata": {},
   "outputs": [
    {
     "name": "stdout",
     "output_type": "stream",
     "text": [
      "      R/G    G    PA    AB    R     H   2B  3B   HR  RBI  ...    SLG    OPS  \\\n",
      "Tm                                                        ...                 \n",
      "ARI  4.58  132  5114  4631  604  1217  233  51  147  569  ...  0.430  0.752   \n",
      "ATL  3.73  132  5055  4510  492  1111  237  23   92  466  ...  0.370  0.683   \n",
      "BAL  4.70  132  4962  4516  621  1176  225   5  208  593  ...  0.451  0.770   \n",
      "BOS  5.42  132  5153  4636  716  1319  292  23  167  685  ...  0.465  0.815   \n",
      "CHC  5.08  131  5149  4470  666  1153  240  22  166  633  ...  0.433  0.778   \n",
      "CHW  4.07  131  4940  4461  533  1129  219  26  132  509  ...  0.403  0.717   \n",
      "CIN  4.48  131  4920  4433  587  1108  222  24  143  551  ...  0.408  0.719   \n",
      "CLE  4.87  131  5007  4503  638  1190  241  23  163  604  ...  0.437  0.763   \n",
      "COL  5.30  131  5062  4535  694  1240  260  36  167  661  ...  0.457  0.795   \n",
      "DET  4.65  132  5018  4540  614  1207  202  25  174  592  ...  0.436  0.764   \n",
      "HOU  4.56  132  5088  4528  602  1117  243  22  165  576  ...  0.419  0.741   \n",
      "KCR  4.03  132  4916  4510  532  1182  221  24  117  502  ...  0.400  0.712   \n",
      "LAA  4.46  132  4945  4447  589  1176  224  16  131  564  ...  0.410  0.736   \n",
      "LAD  4.47  131  5003  4473  586  1114  224  16  155  551  ...  0.410  0.730   \n",
      "MIA  4.14  132  5059  4572  546  1226  222  33  108  522  ...  0.402  0.730   \n",
      "MIL  4.08  132  4958  4338  539  1062  205  14  148  515  ...  0.401  0.727   \n",
      "MIN  4.54  132  5092  4585  599  1172  243  31  153  573  ...  0.422  0.742   \n",
      "NYM  3.92  132  4930  4417  518  1072  193  15  177  503  ...  0.413  0.724   \n",
      "NYY  4.29  131  4907  4434  562  1129  202  17  147  532  ...  0.407  0.722   \n",
      "OAK  3.95  132  4890  4486  521  1110  211  18  141  504  ...  0.397  0.699   \n",
      "PHI  3.72  132  4847  4413  491  1056  190  30  133  463  ...  0.386  0.683   \n",
      "PIT  4.52  130  5015  4460  588  1140  224  26  123  562  ...  0.400  0.729   \n",
      "SDP  4.31  131  4884  4407  564  1043  213  20  149  534  ...  0.396  0.696   \n",
      "SEA  4.62  132  5042  4522  610  1162  201  16  178  584  ...  0.427  0.751   \n",
      "SFG  4.50  131  5090  4511  589  1178  229  45  109  560  ...  0.404  0.738   \n",
      "STL  4.95  131  5088  4535  649  1168  246  28  188  620  ...  0.449  0.777   \n",
      "TBR  4.19  131  4889  4416  549  1072  234  27  174  528  ...  0.426  0.735   \n",
      "TEX  4.67  133  4978  4520  621  1184  201  19  172  606  ...  0.429  0.749   \n",
      "TOR  4.91  132  5092  4500  648  1126  234  18  193  619  ...  0.439  0.767   \n",
      "WSN  4.83  132  5109  4513  638  1155  221  25  175  615  ...  0.432  0.760   \n",
      "\n",
      "     OPS+    TB  GDP  HBP  SH  SF  IBB  LOB  \n",
      "Tm                                           \n",
      "ARI    95  1993  100   42  34  33   35  921  \n",
      "ATL    85  1670  122   46  53  40   41  941  \n",
      "BAL   101  2035  100   35  11  28   17  859  \n",
      "BOS   111  2158  113   36   5  30   28  951  \n",
      "CHC   108  1935   88   80  36  31   39  985  \n",
      "CHW    96  1796  105   49  24  36   13  890  \n",
      "CIN    89  1807  104   40  42  32   31  792  \n",
      "CLE    94  1966  118   34  21  46   10  854  \n",
      "COL    94  2073   95   35  44  28   31  891  \n",
      "DET   107  1981  112   39  13  32   27  896  \n",
      "HOU   103  1899  106   43  24  26   23  905  \n",
      "KCR    88  1802  113   34  34  27   18  868  \n",
      "LAA   103  1825  126   41  32  42   17  852  \n",
      "LAD    98  1835  101   51  26  26   28  902  \n",
      "MIA    98  1838  117   43  38  29   28  979  \n",
      "MIL    93  1739  105   28  46  34   27  904  \n",
      "MIN   100  1936   76   36  20  38   21  924  \n",
      "NYM    93  1826  103   47  32  31   29  895  \n",
      "NYY    91  1806   99   35  16  37   15  884  \n",
      "OAK    92  1780  115   31  11  28   16  840  \n",
      "PHI    82  1705   90   40  37  26   27  828  \n",
      "PIT    93  1785   97   69  33  26   31  919  \n",
      "SDP    86  1743   81   43  28  29   22  786  \n",
      "SEA   105  1929  117   62  19  34   21  877  \n",
      "SFG    97  1824  105   33  35  35   37  970  \n",
      "STL   105  2034   85   55  30  31   26  923  \n",
      "TBR   101  1882   68   54  16  23   19  857  \n",
      "TEX    95  1939   95   55  15  39   20  841  \n",
      "TOR   103  1975  117   48  18  32   13  892  \n",
      "WSN   100  1951   80   53  37  54   41  911  \n",
      "\n",
      "[30 rows x 26 columns]\n"
     ]
    },
    {
     "ename": "KeyError",
     "evalue": "'Teams'",
     "output_type": "error",
     "traceback": [
      "\u001b[1;31m---------------------------------------------------------------------------\u001b[0m",
      "\u001b[1;31mKeyError\u001b[0m                                  Traceback (most recent call last)",
      "\u001b[1;32m~\\Anaconda3\\lib\\site-packages\\pandas\\core\\indexes\\base.py\u001b[0m in \u001b[0;36mget_loc\u001b[1;34m(self, key, method, tolerance)\u001b[0m\n\u001b[0;32m   2655\u001b[0m             \u001b[1;32mtry\u001b[0m\u001b[1;33m:\u001b[0m\u001b[1;33m\u001b[0m\u001b[1;33m\u001b[0m\u001b[0m\n\u001b[1;32m-> 2656\u001b[1;33m                 \u001b[1;32mreturn\u001b[0m \u001b[0mself\u001b[0m\u001b[1;33m.\u001b[0m\u001b[0m_engine\u001b[0m\u001b[1;33m.\u001b[0m\u001b[0mget_loc\u001b[0m\u001b[1;33m(\u001b[0m\u001b[0mkey\u001b[0m\u001b[1;33m)\u001b[0m\u001b[1;33m\u001b[0m\u001b[1;33m\u001b[0m\u001b[0m\n\u001b[0m\u001b[0;32m   2657\u001b[0m             \u001b[1;32mexcept\u001b[0m \u001b[0mKeyError\u001b[0m\u001b[1;33m:\u001b[0m\u001b[1;33m\u001b[0m\u001b[1;33m\u001b[0m\u001b[0m\n",
      "\u001b[1;32mpandas\\_libs\\index.pyx\u001b[0m in \u001b[0;36mpandas._libs.index.IndexEngine.get_loc\u001b[1;34m()\u001b[0m\n",
      "\u001b[1;32mpandas\\_libs\\index.pyx\u001b[0m in \u001b[0;36mpandas._libs.index.IndexEngine.get_loc\u001b[1;34m()\u001b[0m\n",
      "\u001b[1;32mpandas\\_libs\\hashtable_class_helper.pxi\u001b[0m in \u001b[0;36mpandas._libs.hashtable.PyObjectHashTable.get_item\u001b[1;34m()\u001b[0m\n",
      "\u001b[1;32mpandas\\_libs\\hashtable_class_helper.pxi\u001b[0m in \u001b[0;36mpandas._libs.hashtable.PyObjectHashTable.get_item\u001b[1;34m()\u001b[0m\n",
      "\u001b[1;31mKeyError\u001b[0m: 'Teams'",
      "\nDuring handling of the above exception, another exception occurred:\n",
      "\u001b[1;31mKeyError\u001b[0m                                  Traceback (most recent call last)",
      "\u001b[1;32m<ipython-input-5-1ee4d4cb4159>\u001b[0m in \u001b[0;36m<module>\u001b[1;34m\u001b[0m\n\u001b[0;32m      5\u001b[0m \u001b[1;33m\u001b[0m\u001b[0m\n\u001b[0;32m      6\u001b[0m \u001b[1;33m\u001b[0m\u001b[0m\n\u001b[1;32m----> 7\u001b[1;33m \u001b[0mnames\u001b[0m \u001b[1;33m=\u001b[0m \u001b[0mcolors_df\u001b[0m\u001b[1;33m[\u001b[0m\u001b[1;34m'Teams'\u001b[0m\u001b[1;33m]\u001b[0m\u001b[1;33m\u001b[0m\u001b[1;33m\u001b[0m\u001b[0m\n\u001b[0m\u001b[0;32m      8\u001b[0m \u001b[0mcolors_df\u001b[0m\u001b[1;33m.\u001b[0m\u001b[0mdrop\u001b[0m\u001b[1;33m(\u001b[0m\u001b[1;33m[\u001b[0m\u001b[1;34m'Teams'\u001b[0m\u001b[1;33m,\u001b[0m \u001b[1;34m'Abbrv.1'\u001b[0m\u001b[1;33m]\u001b[0m\u001b[1;33m,\u001b[0m \u001b[0maxis\u001b[0m\u001b[1;33m=\u001b[0m\u001b[1;36m1\u001b[0m\u001b[1;33m,\u001b[0m \u001b[0minplace\u001b[0m\u001b[1;33m=\u001b[0m\u001b[1;32mTrue\u001b[0m\u001b[1;33m)\u001b[0m\u001b[1;33m\u001b[0m\u001b[1;33m\u001b[0m\u001b[0m\n",
      "\u001b[1;32m~\\Anaconda3\\lib\\site-packages\\pandas\\core\\frame.py\u001b[0m in \u001b[0;36m__getitem__\u001b[1;34m(self, key)\u001b[0m\n\u001b[0;32m   2925\u001b[0m             \u001b[1;32mif\u001b[0m \u001b[0mself\u001b[0m\u001b[1;33m.\u001b[0m\u001b[0mcolumns\u001b[0m\u001b[1;33m.\u001b[0m\u001b[0mnlevels\u001b[0m \u001b[1;33m>\u001b[0m \u001b[1;36m1\u001b[0m\u001b[1;33m:\u001b[0m\u001b[1;33m\u001b[0m\u001b[1;33m\u001b[0m\u001b[0m\n\u001b[0;32m   2926\u001b[0m                 \u001b[1;32mreturn\u001b[0m \u001b[0mself\u001b[0m\u001b[1;33m.\u001b[0m\u001b[0m_getitem_multilevel\u001b[0m\u001b[1;33m(\u001b[0m\u001b[0mkey\u001b[0m\u001b[1;33m)\u001b[0m\u001b[1;33m\u001b[0m\u001b[1;33m\u001b[0m\u001b[0m\n\u001b[1;32m-> 2927\u001b[1;33m             \u001b[0mindexer\u001b[0m \u001b[1;33m=\u001b[0m \u001b[0mself\u001b[0m\u001b[1;33m.\u001b[0m\u001b[0mcolumns\u001b[0m\u001b[1;33m.\u001b[0m\u001b[0mget_loc\u001b[0m\u001b[1;33m(\u001b[0m\u001b[0mkey\u001b[0m\u001b[1;33m)\u001b[0m\u001b[1;33m\u001b[0m\u001b[1;33m\u001b[0m\u001b[0m\n\u001b[0m\u001b[0;32m   2928\u001b[0m             \u001b[1;32mif\u001b[0m \u001b[0mis_integer\u001b[0m\u001b[1;33m(\u001b[0m\u001b[0mindexer\u001b[0m\u001b[1;33m)\u001b[0m\u001b[1;33m:\u001b[0m\u001b[1;33m\u001b[0m\u001b[1;33m\u001b[0m\u001b[0m\n\u001b[0;32m   2929\u001b[0m                 \u001b[0mindexer\u001b[0m \u001b[1;33m=\u001b[0m \u001b[1;33m[\u001b[0m\u001b[0mindexer\u001b[0m\u001b[1;33m]\u001b[0m\u001b[1;33m\u001b[0m\u001b[1;33m\u001b[0m\u001b[0m\n",
      "\u001b[1;32m~\\Anaconda3\\lib\\site-packages\\pandas\\core\\indexes\\base.py\u001b[0m in \u001b[0;36mget_loc\u001b[1;34m(self, key, method, tolerance)\u001b[0m\n\u001b[0;32m   2656\u001b[0m                 \u001b[1;32mreturn\u001b[0m \u001b[0mself\u001b[0m\u001b[1;33m.\u001b[0m\u001b[0m_engine\u001b[0m\u001b[1;33m.\u001b[0m\u001b[0mget_loc\u001b[0m\u001b[1;33m(\u001b[0m\u001b[0mkey\u001b[0m\u001b[1;33m)\u001b[0m\u001b[1;33m\u001b[0m\u001b[1;33m\u001b[0m\u001b[0m\n\u001b[0;32m   2657\u001b[0m             \u001b[1;32mexcept\u001b[0m \u001b[0mKeyError\u001b[0m\u001b[1;33m:\u001b[0m\u001b[1;33m\u001b[0m\u001b[1;33m\u001b[0m\u001b[0m\n\u001b[1;32m-> 2658\u001b[1;33m                 \u001b[1;32mreturn\u001b[0m \u001b[0mself\u001b[0m\u001b[1;33m.\u001b[0m\u001b[0m_engine\u001b[0m\u001b[1;33m.\u001b[0m\u001b[0mget_loc\u001b[0m\u001b[1;33m(\u001b[0m\u001b[0mself\u001b[0m\u001b[1;33m.\u001b[0m\u001b[0m_maybe_cast_indexer\u001b[0m\u001b[1;33m(\u001b[0m\u001b[0mkey\u001b[0m\u001b[1;33m)\u001b[0m\u001b[1;33m)\u001b[0m\u001b[1;33m\u001b[0m\u001b[1;33m\u001b[0m\u001b[0m\n\u001b[0m\u001b[0;32m   2659\u001b[0m         \u001b[0mindexer\u001b[0m \u001b[1;33m=\u001b[0m \u001b[0mself\u001b[0m\u001b[1;33m.\u001b[0m\u001b[0mget_indexer\u001b[0m\u001b[1;33m(\u001b[0m\u001b[1;33m[\u001b[0m\u001b[0mkey\u001b[0m\u001b[1;33m]\u001b[0m\u001b[1;33m,\u001b[0m \u001b[0mmethod\u001b[0m\u001b[1;33m=\u001b[0m\u001b[0mmethod\u001b[0m\u001b[1;33m,\u001b[0m \u001b[0mtolerance\u001b[0m\u001b[1;33m=\u001b[0m\u001b[0mtolerance\u001b[0m\u001b[1;33m)\u001b[0m\u001b[1;33m\u001b[0m\u001b[1;33m\u001b[0m\u001b[0m\n\u001b[0;32m   2660\u001b[0m         \u001b[1;32mif\u001b[0m \u001b[0mindexer\u001b[0m\u001b[1;33m.\u001b[0m\u001b[0mndim\u001b[0m \u001b[1;33m>\u001b[0m \u001b[1;36m1\u001b[0m \u001b[1;32mor\u001b[0m \u001b[0mindexer\u001b[0m\u001b[1;33m.\u001b[0m\u001b[0msize\u001b[0m \u001b[1;33m>\u001b[0m \u001b[1;36m1\u001b[0m\u001b[1;33m:\u001b[0m\u001b[1;33m\u001b[0m\u001b[1;33m\u001b[0m\u001b[0m\n",
      "\u001b[1;32mpandas\\_libs\\index.pyx\u001b[0m in \u001b[0;36mpandas._libs.index.IndexEngine.get_loc\u001b[1;34m()\u001b[0m\n",
      "\u001b[1;32mpandas\\_libs\\index.pyx\u001b[0m in \u001b[0;36mpandas._libs.index.IndexEngine.get_loc\u001b[1;34m()\u001b[0m\n",
      "\u001b[1;32mpandas\\_libs\\hashtable_class_helper.pxi\u001b[0m in \u001b[0;36mpandas._libs.hashtable.PyObjectHashTable.get_item\u001b[1;34m()\u001b[0m\n",
      "\u001b[1;32mpandas\\_libs\\hashtable_class_helper.pxi\u001b[0m in \u001b[0;36mpandas._libs.hashtable.PyObjectHashTable.get_item\u001b[1;34m()\u001b[0m\n",
      "\u001b[1;31mKeyError\u001b[0m: 'Teams'"
     ]
    }
   ],
   "source": [
    "df_std = (df - df.min(axis=0)) / (df.max(axis=0) - df.min(axis=0))\n",
    "df_scaled = df_std * (1.0 - 0.0) + 0.0\n",
    "\n",
    "print(df)\n",
    "\n",
    "\n",
    "names = colors_df['Teams']\n",
    "colors_df.drop(['Teams', 'Abbrv.1'], axis=1, inplace=True)"
   ]
  },
  {
   "cell_type": "markdown",
   "metadata": {},
   "source": [
    "Write a function that will generate a random color from a team's color palette.  "
   ]
  },
  {
   "cell_type": "code",
   "execution_count": 4,
   "metadata": {},
   "outputs": [],
   "source": [
    "def color_gen(tm):\n",
    "    \"\"\" function to generate a random color from a given team thats not white\"\"\"\n",
    "    from random import randint\n",
    "    color = '#FFFFFF'\n",
    "    while color == '#FFFFFF':\n",
    "        color = colors_df.loc[tm][randint(0, len(colors_df.loc[tm].dropna())-1)]\n",
    "    return color"
   ]
  },
  {
   "cell_type": "markdown",
   "metadata": {},
   "source": [
    "[Partial](https://docs.python.org/2/library/functools.html) is a pretty useful function for \"loading\" a bunch of functions each with different parameters.  Here I use partial to create a dictionary where the keys are team names and the value is a the `color_gem` function, with that particular team already passed as an argument.  "
   ]
  },
  {
   "cell_type": "code",
   "execution_count": 5,
   "metadata": {},
   "outputs": [],
   "source": [
    "from functools import partial\n",
    "color_map = dict([(tm, partial(color_gen, tm)) for tm in colors_df.index.tolist()])"
   ]
  },
  {
   "cell_type": "markdown",
   "metadata": {},
   "source": [
    "I create the dendrogram using the [SciPy's dendrogram](http://docs.scipy.org/doc/scipy-0.14.0/reference/generated/scipy.cluster.hierarchy.dendrogram.html) function.  The function takes a linkage matrix `Z` and returns a dictionary of objects, two of which are the horiztonal and vertical line coordinates of the dendorogram.  A third object, `ivl`, a list of a labels mapping the original order of the teams, to their order in the dendorgram (from top to bottom)."
   ]
  },
  {
   "cell_type": "code",
   "execution_count": 6,
   "metadata": {},
   "outputs": [
    {
     "name": "stderr",
     "output_type": "stream",
     "text": [
      "C:\\Users\\Malav\\Anaconda3\\lib\\site-packages\\ipykernel_launcher.py:5: ClusterWarning: scipy.cluster: The symmetric non-negative hollow observation matrix looks suspiciously like an uncondensed distance matrix\n",
      "  \"\"\"\n"
     ]
    }
   ],
   "source": [
    "from sklearn.metrics.pairwise import pairwise_distances\n",
    "from scipy.cluster.hierarchy import linkage, dendrogram\n",
    "\n",
    "X = pairwise_distances(df.values, metric='euclidean')\n",
    "Z = linkage(X, 'ward')\n",
    "results = dendrogram(Z, no_plot=True)\n",
    "icoord, dcoord = results['icoord'], results['dcoord']\n",
    "labels = list(map(int, results['ivl']))\n",
    "df = df.iloc[labels]\n",
    "df_scaled = df_scaled.iloc[labels]"
   ]
  },
  {
   "cell_type": "markdown",
   "metadata": {},
   "source": [
    "I reshape the data a bit to make it work with bokeh's tooltips.  A hover tool that allows you to see the data associated with a certain object on the plot.  "
   ]
  },
  {
   "cell_type": "code",
   "execution_count": 7,
   "metadata": {},
   "outputs": [],
   "source": [
    "tms = []\n",
    "batting = []\n",
    "xs = []\n",
    "ys = []\n",
    "colors = []\n",
    "alpha = []\n",
    "value = []\n",
    "\n",
    "for i, tm in enumerate(df.index):\n",
    "    tms = tms + [tm]*len(df.columns)\n",
    "    batting = batting + df.columns.tolist()\n",
    "    xs = xs + list(np.arange(0.5, len(df.columns)+0.5))\n",
    "    ys = ys + [i+0.5]*len(df.columns)\n",
    "    colors = colors + [color_map[tm]() for i in range(len(df.columns))]\n",
    "    value = value + df.loc[tm].tolist()\n",
    "    alpha = alpha + df_scaled.loc[tm].tolist()\n"
   ]
  },
  {
   "cell_type": "markdown",
   "metadata": {},
   "source": [
    "The rest is just plotting."
   ]
  },
  {
   "cell_type": "code",
   "execution_count": 10,
   "metadata": {},
   "outputs": [
    {
     "ename": "AttributeError",
     "evalue": "unexpected attribute 'webgl' to Figure, possible attributes are above, aspect_scale, background_fill_alpha, background_fill_color, below, border_fill_alpha, border_fill_color, css_classes, disabled, extra_x_ranges, extra_y_ranges, h_symmetry, height, hidpi, inner_height, inner_width, js_event_callbacks, js_property_callbacks, layout_height, layout_width, left, lod_factor, lod_interval, lod_threshold, lod_timeout, match_aspect, min_border, min_border_bottom, min_border_left, min_border_right, min_border_top, name, outline_line_alpha, outline_line_cap, outline_line_color, outline_line_dash, outline_line_dash_offset, outline_line_join, outline_line_width, output_backend, plot_height, plot_width, renderers, right, sizing_mode, subscribed_events, tags, title, title_location, toolbar, toolbar_location, toolbar_sticky, v_symmetry, width, x_range, x_scale, y_range or y_scale",
     "output_type": "error",
     "traceback": [
      "\u001b[1;31m---------------------------------------------------------------------------\u001b[0m",
      "\u001b[1;31mAttributeError\u001b[0m                            Traceback (most recent call last)",
      "\u001b[1;32m<ipython-input-10-23114064f3ef>\u001b[0m in \u001b[0;36m<module>\u001b[1;34m\u001b[0m\n\u001b[0;32m     41\u001b[0m \u001b[1;31m#                     ResizeTool(),\u001b[0m\u001b[1;33m\u001b[0m\u001b[1;33m\u001b[0m\u001b[1;33m\u001b[0m\u001b[0m\n\u001b[0;32m     42\u001b[0m                     SaveTool()],\n\u001b[1;32m---> 43\u001b[1;33m             \u001b[0mwebgl\u001b[0m\u001b[1;33m=\u001b[0m\u001b[1;32mTrue\u001b[0m\u001b[1;33m\u001b[0m\u001b[1;33m\u001b[0m\u001b[0m\n\u001b[0m\u001b[0;32m     44\u001b[0m )\n\u001b[0;32m     45\u001b[0m \u001b[1;33m\u001b[0m\u001b[0m\n",
      "\u001b[1;32m~\\Anaconda3\\lib\\site-packages\\bokeh\\plotting\\figure.py\u001b[0m in \u001b[0;36mfigure\u001b[1;34m(**kwargs)\u001b[0m\n\u001b[0;32m    982\u001b[0m \u001b[1;33m\u001b[0m\u001b[0m\n\u001b[0;32m    983\u001b[0m \u001b[1;32mdef\u001b[0m \u001b[0mfigure\u001b[0m\u001b[1;33m(\u001b[0m\u001b[1;33m**\u001b[0m\u001b[0mkwargs\u001b[0m\u001b[1;33m)\u001b[0m\u001b[1;33m:\u001b[0m\u001b[1;33m\u001b[0m\u001b[1;33m\u001b[0m\u001b[0m\n\u001b[1;32m--> 984\u001b[1;33m     \u001b[1;32mreturn\u001b[0m \u001b[0mFigure\u001b[0m\u001b[1;33m(\u001b[0m\u001b[1;33m**\u001b[0m\u001b[0mkwargs\u001b[0m\u001b[1;33m)\u001b[0m\u001b[1;33m\u001b[0m\u001b[1;33m\u001b[0m\u001b[0m\n\u001b[0m\u001b[0;32m    985\u001b[0m \u001b[0mfigure\u001b[0m\u001b[1;33m.\u001b[0m\u001b[0m__doc__\u001b[0m \u001b[1;33m=\u001b[0m \u001b[0mFigure\u001b[0m\u001b[1;33m.\u001b[0m\u001b[0m__doc__\u001b[0m\u001b[1;33m\u001b[0m\u001b[1;33m\u001b[0m\u001b[0m\n\u001b[0;32m    986\u001b[0m \u001b[1;33m\u001b[0m\u001b[0m\n",
      "\u001b[1;32m~\\Anaconda3\\lib\\site-packages\\bokeh\\plotting\\figure.py\u001b[0m in \u001b[0;36m__init__\u001b[1;34m(self, *arg, **kw)\u001b[0m\n\u001b[0;32m    148\u001b[0m             \u001b[0mkw\u001b[0m\u001b[1;33m[\u001b[0m\u001b[1;34m'title'\u001b[0m\u001b[1;33m]\u001b[0m \u001b[1;33m=\u001b[0m \u001b[0mTitle\u001b[0m\u001b[1;33m(\u001b[0m\u001b[0mtext\u001b[0m\u001b[1;33m=\u001b[0m\u001b[0mtitle\u001b[0m\u001b[1;33m)\u001b[0m\u001b[1;33m\u001b[0m\u001b[1;33m\u001b[0m\u001b[0m\n\u001b[0;32m    149\u001b[0m \u001b[1;33m\u001b[0m\u001b[0m\n\u001b[1;32m--> 150\u001b[1;33m         \u001b[0msuper\u001b[0m\u001b[1;33m(\u001b[0m\u001b[0mFigure\u001b[0m\u001b[1;33m,\u001b[0m \u001b[0mself\u001b[0m\u001b[1;33m)\u001b[0m\u001b[1;33m.\u001b[0m\u001b[0m__init__\u001b[0m\u001b[1;33m(\u001b[0m\u001b[1;33m*\u001b[0m\u001b[0marg\u001b[0m\u001b[1;33m,\u001b[0m \u001b[1;33m**\u001b[0m\u001b[0mkw\u001b[0m\u001b[1;33m)\u001b[0m\u001b[1;33m\u001b[0m\u001b[1;33m\u001b[0m\u001b[0m\n\u001b[0m\u001b[0;32m    151\u001b[0m \u001b[1;33m\u001b[0m\u001b[0m\n\u001b[0;32m    152\u001b[0m         \u001b[0mself\u001b[0m\u001b[1;33m.\u001b[0m\u001b[0mx_range\u001b[0m \u001b[1;33m=\u001b[0m \u001b[0m_get_range\u001b[0m\u001b[1;33m(\u001b[0m\u001b[0mopts\u001b[0m\u001b[1;33m.\u001b[0m\u001b[0mx_range\u001b[0m\u001b[1;33m)\u001b[0m\u001b[1;33m\u001b[0m\u001b[1;33m\u001b[0m\u001b[0m\n",
      "\u001b[1;32m~\\Anaconda3\\lib\\site-packages\\bokeh\\model.py\u001b[0m in \u001b[0;36m__init__\u001b[1;34m(self, **kwargs)\u001b[0m\n\u001b[0;32m    259\u001b[0m         \u001b[0mself\u001b[0m\u001b[1;33m.\u001b[0m\u001b[0m_document\u001b[0m \u001b[1;33m=\u001b[0m \u001b[1;32mNone\u001b[0m\u001b[1;33m\u001b[0m\u001b[1;33m\u001b[0m\u001b[0m\n\u001b[0;32m    260\u001b[0m         \u001b[0mself\u001b[0m\u001b[1;33m.\u001b[0m\u001b[0m_temp_document\u001b[0m \u001b[1;33m=\u001b[0m \u001b[1;32mNone\u001b[0m\u001b[1;33m\u001b[0m\u001b[1;33m\u001b[0m\u001b[0m\n\u001b[1;32m--> 261\u001b[1;33m         \u001b[0msuper\u001b[0m\u001b[1;33m(\u001b[0m\u001b[0mModel\u001b[0m\u001b[1;33m,\u001b[0m \u001b[0mself\u001b[0m\u001b[1;33m)\u001b[0m\u001b[1;33m.\u001b[0m\u001b[0m__init__\u001b[0m\u001b[1;33m(\u001b[0m\u001b[1;33m**\u001b[0m\u001b[0mkwargs\u001b[0m\u001b[1;33m)\u001b[0m\u001b[1;33m\u001b[0m\u001b[1;33m\u001b[0m\u001b[0m\n\u001b[0m\u001b[0;32m    262\u001b[0m         \u001b[0mdefault_theme\u001b[0m\u001b[1;33m.\u001b[0m\u001b[0mapply_to_model\u001b[0m\u001b[1;33m(\u001b[0m\u001b[0mself\u001b[0m\u001b[1;33m)\u001b[0m\u001b[1;33m\u001b[0m\u001b[1;33m\u001b[0m\u001b[0m\n\u001b[0;32m    263\u001b[0m \u001b[1;33m\u001b[0m\u001b[0m\n",
      "\u001b[1;32m~\\Anaconda3\\lib\\site-packages\\bokeh\\core\\has_props.py\u001b[0m in \u001b[0;36m__init__\u001b[1;34m(self, **properties)\u001b[0m\n\u001b[0;32m    251\u001b[0m \u001b[1;33m\u001b[0m\u001b[0m\n\u001b[0;32m    252\u001b[0m         \u001b[1;32mfor\u001b[0m \u001b[0mname\u001b[0m\u001b[1;33m,\u001b[0m \u001b[0mvalue\u001b[0m \u001b[1;32min\u001b[0m \u001b[0mproperties\u001b[0m\u001b[1;33m.\u001b[0m\u001b[0mitems\u001b[0m\u001b[1;33m(\u001b[0m\u001b[1;33m)\u001b[0m\u001b[1;33m:\u001b[0m\u001b[1;33m\u001b[0m\u001b[1;33m\u001b[0m\u001b[0m\n\u001b[1;32m--> 253\u001b[1;33m             \u001b[0msetattr\u001b[0m\u001b[1;33m(\u001b[0m\u001b[0mself\u001b[0m\u001b[1;33m,\u001b[0m \u001b[0mname\u001b[0m\u001b[1;33m,\u001b[0m \u001b[0mvalue\u001b[0m\u001b[1;33m)\u001b[0m\u001b[1;33m\u001b[0m\u001b[1;33m\u001b[0m\u001b[0m\n\u001b[0m\u001b[0;32m    254\u001b[0m \u001b[1;33m\u001b[0m\u001b[0m\n\u001b[0;32m    255\u001b[0m     \u001b[1;32mdef\u001b[0m \u001b[0m__setattr__\u001b[0m\u001b[1;33m(\u001b[0m\u001b[0mself\u001b[0m\u001b[1;33m,\u001b[0m \u001b[0mname\u001b[0m\u001b[1;33m,\u001b[0m \u001b[0mvalue\u001b[0m\u001b[1;33m)\u001b[0m\u001b[1;33m:\u001b[0m\u001b[1;33m\u001b[0m\u001b[1;33m\u001b[0m\u001b[0m\n",
      "\u001b[1;32m~\\Anaconda3\\lib\\site-packages\\bokeh\\core\\has_props.py\u001b[0m in \u001b[0;36m__setattr__\u001b[1;34m(self, name, value)\u001b[0m\n\u001b[0;32m    286\u001b[0m \u001b[1;33m\u001b[0m\u001b[0m\n\u001b[0;32m    287\u001b[0m             raise AttributeError(\"unexpected attribute '%s' to %s, %s attributes are %s\" %\n\u001b[1;32m--> 288\u001b[1;33m                 (name, self.__class__.__name__, text, nice_join(matches)))\n\u001b[0m\u001b[0;32m    289\u001b[0m \u001b[1;33m\u001b[0m\u001b[0m\n\u001b[0;32m    290\u001b[0m     \u001b[1;32mdef\u001b[0m \u001b[0m__str__\u001b[0m\u001b[1;33m(\u001b[0m\u001b[0mself\u001b[0m\u001b[1;33m)\u001b[0m\u001b[1;33m:\u001b[0m\u001b[1;33m\u001b[0m\u001b[1;33m\u001b[0m\u001b[0m\n",
      "\u001b[1;31mAttributeError\u001b[0m: unexpected attribute 'webgl' to Figure, possible attributes are above, aspect_scale, background_fill_alpha, background_fill_color, below, border_fill_alpha, border_fill_color, css_classes, disabled, extra_x_ranges, extra_y_ranges, h_symmetry, height, hidpi, inner_height, inner_width, js_event_callbacks, js_property_callbacks, layout_height, layout_width, left, lod_factor, lod_interval, lod_threshold, lod_timeout, match_aspect, min_border, min_border_bottom, min_border_left, min_border_right, min_border_top, name, outline_line_alpha, outline_line_cap, outline_line_color, outline_line_dash, outline_line_dash_offset, outline_line_join, outline_line_width, output_backend, plot_height, plot_width, renderers, right, sizing_mode, subscribed_events, tags, title, title_location, toolbar, toolbar_location, toolbar_sticky, v_symmetry, width, x_range, x_scale, y_range or y_scale"
     ]
    }
   ],
   "source": [
    "from bokeh.plotting import figure, output_file\n",
    "from bokeh.models.sources import ColumnDataSource\n",
    "from bokeh.models import HoverTool, SaveTool\n",
    "\n",
    "data = pd.DataFrame(dict(\n",
    "        tms=tms,\n",
    "        batting=batting,\n",
    "        xs=xs,\n",
    "        ys=ys,\n",
    "        colors=colors,\n",
    "        value=value,\n",
    "        alpha=alpha\n",
    "              ))\n",
    "\n",
    "source = ColumnDataSource(data)\n",
    "\n",
    "hover = HoverTool()\n",
    "\n",
    "hover.tooltips = [\n",
    "    (\"Team\", \"@tms\"),\n",
    "    (\"Batting Stat\", (\"@batting: @value\")),\n",
    "    (\"Value\", \"@value\")\n",
    "]\n",
    "\n",
    "height, width = df.shape\n",
    "\n",
    "icoord = pd.DataFrame(icoord)\n",
    "icoord = icoord * (data['ys'].max() / icoord.max().max())\n",
    "icoord = icoord.values\n",
    "\n",
    "dcoord = pd.DataFrame(dcoord)\n",
    "dcoord = dcoord * (data['xs'].max() / dcoord.max().max())\n",
    "dcoord = dcoord.values\n",
    "\n",
    "\n",
    "hm = figure(x_range=[-40, 40],\n",
    "            #y_range=[0, icoord.max()],\n",
    "            height=800,\n",
    "            width=800,\n",
    "            tools=[ \n",
    "#                     ResizeTool(), \n",
    "                    SaveTool()],\n",
    "            webgl=True\n",
    ")\n",
    "\n",
    "for i, d in zip(icoord, dcoord):\n",
    "    d = list(map(lambda x: -x, d))\n",
    "    hm.line(x=d, y=i, line_color='black')\n",
    "\n",
    "hm.add_tools(hover)\n",
    "\n",
    "\n",
    "hm.rect(x='xs', y='ys',\n",
    "        height=1,\n",
    "        width=1,\n",
    "        fill_color='colors',\n",
    "        line_color='black',\n",
    "        source=source,\n",
    "        line_alpha=0.2,\n",
    "        fill_alpha='alpha'\n",
    "        \n",
    "        )\n",
    "hm.text([data['xs'].max()+0.51] * len(data['tms'].unique()), \n",
    "        data['ys'].unique().tolist(), \n",
    "        text=[nm for nm in names.iloc[labels]],\n",
    "        text_baseline='middle',\n",
    "        text_font_size='6pt'\n",
    "       \n",
    "       )\n",
    "\n",
    "hm.axis.major_tick_line_color = None\n",
    "hm.axis.minor_tick_line_color = None\n",
    "hm.axis.major_label_text_color = None\n",
    "hm.axis.major_label_text_font_size = '0pt'\n",
    "hm.axis.axis_line_color = None\n",
    "hm.grid.grid_line_color = None\n",
    "hm.outline_line_color = None"
   ]
  },
  {
   "cell_type": "code",
   "execution_count": null,
   "metadata": {},
   "outputs": [],
   "source": [
    "from bokeh.plotting import output_notebook, show"
   ]
  },
  {
   "cell_type": "code",
   "execution_count": null,
   "metadata": {},
   "outputs": [],
   "source": [
    "output_notebook()\n"
   ]
  },
  {
   "cell_type": "code",
   "execution_count": null,
   "metadata": {},
   "outputs": [],
   "source": [
    "show(hm)"
   ]
  },
  {
   "cell_type": "markdown",
   "metadata": {},
   "source": [
    "In the heatmap, MLB leaders have higher color intensities.  It looks like their are two distinct clusters, with the bottom half of the heatmap having much more faded/white color spots.  Not surprisingly, a majority of the division leaders (sans the Dodgers) are in the top half of the map.\n",
    "\n",
    "All the code and data are available on my github page: https://github.com/russodanielp/bokeh_plots."
   ]
  }
 ],
 "metadata": {
  "anaconda-cloud": {},
  "kernelspec": {
   "display_name": "Python 3",
   "language": "python",
   "name": "python3"
  },
  "language_info": {
   "codemirror_mode": {
    "name": "ipython",
    "version": 3
   },
   "file_extension": ".py",
   "mimetype": "text/x-python",
   "name": "python",
   "nbconvert_exporter": "python",
   "pygments_lexer": "ipython3",
   "version": "3.6.8"
  }
 },
 "nbformat": 4,
 "nbformat_minor": 1
}
