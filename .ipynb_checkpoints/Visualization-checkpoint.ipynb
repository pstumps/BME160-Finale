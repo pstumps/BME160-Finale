{
 "cells": [
  {
   "cell_type": "code",
   "execution_count": 1,
   "metadata": {},
   "outputs": [],
   "source": [
    "import pandas as pd\n",
    "import numpy as np\n",
    "from bokeh.plotting import figure, output_notebook, show"
   ]
  },
  {
   "cell_type": "code",
   "execution_count": 2,
   "metadata": {
    "slideshow": {
     "slide_type": "-"
    }
   },
   "outputs": [],
   "source": [
    "df = pd.read_excel('HexaPropsAssay.xlsx')\n",
    "\n",
    "# print(df[~df.applymap(lambda x: not isinstance(x, (int, float)))])"
   ]
  },
  {
   "cell_type": "code",
   "execution_count": 5,
   "metadata": {},
   "outputs": [
    {
     "ename": "SyntaxError",
     "evalue": "can't assign to function call (<ipython-input-5-08725777a04a>, line 15)",
     "output_type": "error",
     "traceback": [
      "\u001b[1;36m  File \u001b[1;32m\"<ipython-input-5-08725777a04a>\"\u001b[1;36m, line \u001b[1;32m15\u001b[0m\n\u001b[1;33m    factors (list) = df.columns\u001b[0m\n\u001b[1;37m                               ^\u001b[0m\n\u001b[1;31mSyntaxError\u001b[0m\u001b[1;31m:\u001b[0m can't assign to function call\n"
     ]
    }
   ],
   "source": [
    "# def norm(df_column_name):\n",
    "#     input_array=np.array(df[df_column_name])\n",
    "#     if np.isnan(input_array).any():\n",
    "#         pass #do thing if the input_array contains any non-integer items\n",
    "#     else:\n",
    "#         return (input_array - np.min(input_array))/(np.max(input_array) - np.min(input_array))\n",
    "\n",
    "# from sklearn import preprocessing\n",
    "# x = df.values #returns a numpy array\n",
    "# min_max_scaler = preprocessing.MinMaxScaler()\n",
    "# x_scaled = min_max_scaler.fit_transform(x)\n",
    "# ndf = pandas.DataFrame(x_scaled)\n",
    "\n",
    "# ndf = pd.DataFrame({x:norm(x) for x in df.columns if x != 'Name'})\n",
    "factors = df.columns\n",
    "print(type(factors))\n",
    "\n",
    "# output_notebook()"
   ]
  },
  {
   "cell_type": "code",
   "execution_count": null,
   "metadata": {},
   "outputs": [],
   "source": []
  }
 ],
 "metadata": {
  "kernelspec": {
   "display_name": "Python 3",
   "language": "python",
   "name": "python3"
  },
  "language_info": {
   "codemirror_mode": {
    "name": "ipython",
    "version": 3
   },
   "file_extension": ".py",
   "mimetype": "text/x-python",
   "name": "python",
   "nbconvert_exporter": "python",
   "pygments_lexer": "ipython3",
   "version": "3.6.8"
  }
 },
 "nbformat": 4,
 "nbformat_minor": 2
}
