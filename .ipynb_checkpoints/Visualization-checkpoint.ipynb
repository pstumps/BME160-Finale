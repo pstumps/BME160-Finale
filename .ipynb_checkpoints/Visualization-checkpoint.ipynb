{
 "cells": [
  {
   "cell_type": "code",
   "execution_count": null,
   "metadata": {
    "slideshow": {
     "slide_type": "slide"
    }
   },
   "outputs": [],
   "source": [
    "#get packages we will use\n",
    "from math import pi\n",
    "import pandas as pd\n",
    "import numpy as np\n",
    "from bokeh.plotting import figure, output_notebook, show\n",
    "from bokeh.models.sources import ColumnDataSource\n",
    "from bokeh.models import HoverTool\n",
    "output_notebook()"
   ]
  },
  {
   "cell_type": "code",
   "execution_count": null,
   "metadata": {
    "slideshow": {
     "slide_type": "subslide"
    }
   },
   "outputs": [],
   "source": [
    "#import data and make a normalized copy of it\n",
    "df = pd.read_excel('HexaPropsAssay.xlsx', index_col=0)\n",
    "cdtree = pd.read_csv('cdtree.csv')\n",
    "ndf = (df - df.min(axis=0)) / (df.max(axis=0) - df.min(axis=0))"
   ]
  },
  {
   "cell_type": "code",
   "execution_count": null,
   "metadata": {},
   "outputs": [],
   "source": [
    "#create dendrogram tree via dicitonary\n",
    "import collections\n",
    "parents = cdtree['parent'].tolist()\n",
    "children = cdtree['child'].tolist()\n",
    "forwardtree = collections.defaultdict(list)\n",
    "reversetree = {}\n",
    "for x,y in zip(parents,children):\n",
    "    reversetree[y] = x\n",
    "    forwardtree[x].append(y)"
   ]
  },
  {
   "cell_type": "code",
   "execution_count": null,
   "metadata": {},
   "outputs": [],
   "source": [
    "#create dendrogram, each line is a rect glyph using multiline\n",
    "'''\n",
    "Based on https://bokeh.pydata.org/en/latest/docs/reference/plotting.html#bokeh.plotting.figure.Figure.multi_line\n",
    "we can put as many random lines in the space below as we want - so we can use that to make our dendrogram.\n",
    "It takes a list of lists as its xs/ys, meaning if xs=[[1, 2], [3, 4]] and ys=[[4, 3], [2, 1]], then there are two\n",
    "lines. The first has two x points (1 and 2) and two y points (4 and 3). The first line is then defined as:\n",
    "starting from (1, 4) going to (2, 3).\n",
    "\n",
    "So based on the groupings of the children, we can build the positioning of where each line goes backwards.\n",
    "The lenth of each line could be of length 1 or 2, the x range would need to corrispond to how long you want it to\n",
    "be though. Think there's around 900+ nodes to take care of.\n",
    "'''\n",
    "#highest parent is row 838, which shall be at the bottom. All parents will take the bottome path while their\n",
    "#children go up.\n",
    "xs=[]\n",
    "ys=[]\n",
    "name=[]\n",
    "\n",
    "def recursivebuild(parent, x=.5, y=.5):\n",
    "    yi = y+1\n",
    "    if parent in forwardtree:\n",
    "        bottom = yi\n",
    "        for child in forwardtree[parent]:\n",
    "            if child <= 837:\n",
    "                xs.append([x, 200])\n",
    "                ys.append([yi, yi])\n",
    "                name.append(child)\n",
    "            yi = recursivebuild(child, x+4, yi)\n",
    "        top = yi\n",
    "        xs.append([x+4, x+4])\n",
    "        ys.append([bottom, top])\n",
    "        name.append('child connector')\n",
    "        xs.append([x, x+4])\n",
    "        ys.append([bottom+top/2, bottom+top/2])\n",
    "        name.append('parent to child connector')\n",
    "        xs.append([x, x])\n",
    "        ys.append([y, bottom+top/2])\n",
    "        name.append('parent extender')\n",
    "        #make vertical line\n",
    "    return yi\n",
    "\n",
    "print(recursivebuild(838))\n",
    "\n",
    "dendo = figure(x_range = [0,200], y_range = [0,1000])\n",
    "dendo.multi_line(xs='xs', ys='ys', source=ColumnDataSource(dict(xs=xs, ys=ys, name=name)))\n",
    "h = HoverTool()\n",
    "h.tooltips = [(\"Node #\", \"@name\")]\n",
    "dendo.add_tools(h)\n",
    "\n",
    "\n",
    "dendo.grid.grid_line_color = None\n",
    "dendo.axis.axis_line_color = None\n",
    "show(dendo)"
   ]
  },
  {
   "cell_type": "code",
   "execution_count": null,
   "metadata": {},
   "outputs": [],
   "source": [
    "#reshape the data to be easily understood by bokeh\n",
    "molecule = []\n",
    "attribute = []\n",
    "xs = []\n",
    "ys = []\n",
    "colors = []\n",
    "alpha = []\n",
    "value = []\n",
    "\n",
    "for i, m in enumerate(df.index):\n",
    "    molecule = molecule + [m]*len(df.columns)\n",
    "    attribute = attribute + df.columns.tolist()\n",
    "    xs = xs + list(np.arange(0.5, len(df.columns)+0.5))\n",
    "    ys = ys + [i+0.5]*len(df.columns)\n",
    "    value = value + df.loc[m].tolist()\n",
    "    alpha = alpha + ndf.loc[m].tolist()\n",
    "\n",
    "data = pd.DataFrame(dict(\n",
    "        molecule = molecule,\n",
    "        attribute = attribute, \n",
    "        xs = xs,\n",
    "        ys = ys,\n",
    "        value = value,\n",
    "        alpha = alpha\n",
    "              ))\n",
    "\n",
    "source = ColumnDataSource(data)"
   ]
  },
  {
   "cell_type": "code",
   "execution_count": null,
   "metadata": {},
   "outputs": [],
   "source": [
    "#create tooltip and heatmap\n",
    "hover = HoverTool()\n",
    "\n",
    "hover.tooltips = [(\"Molecule\", \"@molecule\"), (\"Attribute\", \"@attribute\"), (\"Value\", \"@value\")]\n",
    "\n",
    "hm = figure(x_range=df.columns.tolist(), y_range=[0, df.shape[0]])\n",
    "hm.rect(x='xs', y='ys', height=1, width=1, source=source, fill_alpha='alpha', line_alpha=0.1)\n",
    "\n",
    "hm.xaxis.major_label_orientation = pi/2\n",
    "hm.xaxis.major_label_text_font_size = '7pt'\n",
    "hm.axis.major_tick_line_color = None\n",
    "hm.axis.minor_tick_line_color = None\n",
    "hm.yaxis.major_label_text_color = None\n",
    "hm.grid.grid_line_color = None\n",
    "hm.axis.axis_line_color = None\n",
    "\n",
    "hm.add_tools(hover)\n",
    "show(hm)"
   ]
  },
  {
   "cell_type": "code",
   "execution_count": null,
   "metadata": {},
   "outputs": [],
   "source": []
  }
 ],
 "metadata": {
  "kernelspec": {
   "display_name": "Python 3",
   "language": "python",
   "name": "python3"
  },
  "language_info": {
   "codemirror_mode": {
    "name": "ipython",
    "version": 3
   },
   "file_extension": ".py",
   "mimetype": "text/x-python",
   "name": "python",
   "nbconvert_exporter": "python",
   "pygments_lexer": "ipython3",
   "version": "3.6.8"
  }
 },
 "nbformat": 4,
 "nbformat_minor": 2
}
