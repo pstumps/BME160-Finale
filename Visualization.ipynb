{
 "cells": [
  {
   "cell_type": "code",
   "execution_count": null,
   "metadata": {},
   "outputs": [],
   "source": [
    "#culmination of our work\n",
    "from DendroHeat import DendroHeat\n",
    "dh = DendroHeat()\n",
    "dh.addData(file='HexaPropsAssay.xlsx', type='raw')\n",
    "dh.show(dendrogram=False)"
   ]
  },
  {
   "cell_type": "code",
   "execution_count": null,
   "metadata": {
    "scrolled": true,
    "slideshow": {
     "slide_type": "slide"
    }
   },
   "outputs": [],
   "source": [
    "#get packages we will use\n",
    "from math import pi\n",
    "import pandas as pd\n",
    "import numpy as np\n",
    "from bokeh.plotting import figure, output_notebook, output_file, show\n",
    "from bokeh.models.sources import ColumnDataSource\n",
    "from bokeh.models import HoverTool#, LogColorMapper\n",
    "# from bokeh.palettes import Viridis6 as palette\n",
    "from bokeh.layouts import layout\n",
    "output_notebook()"
   ]
  },
  {
   "cell_type": "code",
   "execution_count": null,
   "metadata": {
    "slideshow": {
     "slide_type": "subslide"
    }
   },
   "outputs": [],
   "source": [
    "#import data and make a normalized copy of it\n",
    "df = pd.read_excel('HexaPropsAssay.xlsx', index_col=0)\n",
    "cdtree = pd.read_csv('cdtree.csv')\n",
    "ndf = (df - df.min(axis=0)) / (df.max(axis=0) - df.min(axis=0))"
   ]
  },
  {
   "cell_type": "code",
   "execution_count": null,
   "metadata": {},
   "outputs": [],
   "source": [
    "# print(sum(cdtree['child_size'].loc[838]))\n",
    "import hdbscan\n",
    "clusterer = hdbscan.HDBSCAN(min_cluster_size=5, gen_min_span_tree=True)\n",
    "clusterer.fit(df.fillna(0))\n",
    "clusterer.single_linkage_tree_.plot(cmap='viridis', colorbar=True)"
   ]
  },
  {
   "cell_type": "code",
   "execution_count": null,
   "metadata": {},
   "outputs": [],
   "source": [
    "#create dendrogram tree via dicitonary\n",
    "import collections\n",
    "parents = cdtree['parent'].tolist()\n",
    "children = cdtree['child'].tolist()\n",
    "forwardtree = collections.defaultdict(set)\n",
    "reversetree = {}\n",
    "for x,y in zip(parents,children):\n",
    "    reversetree[y] = x\n",
    "    forwardtree[x].add(y)\n",
    "for i in range(0, 838):\n",
    "    forwardtree[i].add('')"
   ]
  },
  {
   "cell_type": "code",
   "execution_count": null,
   "metadata": {},
   "outputs": [],
   "source": [
    "parentdepth = collections.defaultdict(set) # depth : set of all parent nodes at depth\n",
    "leafdepth = collections.defaultdict(set) # depth: set of all leaves at depth\n",
    "rleafdepth = {} # leaf:depth\n",
    "\n",
    "#use DFS to find depth of each node\n",
    "def dfs(graph, start, depth, visited=None):\n",
    "    if visited is None:\n",
    "        visited = set()\n",
    "    visited.add(start)\n",
    "    for next in graph[start] - visited:\n",
    "#         print(next)\n",
    "        if forwardtree[next]:\n",
    "            parentdepth[depth].add(next)\n",
    "        else:\n",
    "            leafdepth[depth].add(next)\n",
    "            rleafdepth[next] = depth\n",
    "        dfs(graph, next, depth+1, visited)\n",
    "#     return visited\n",
    "\n",
    "dfs(forwardtree, 838, 1)\n",
    "# sorted based on depth\n",
    "leaves = sorted(range(0, 838), key = lambda x:rleafdepth[x])\n",
    "\n",
    "# while nodes_to_visit:\n",
    "#     depth = depth + 1\n",
    "#     currentnode = nodes_to_visit.pop()\n",
    "#     nodes_to_visit = forwardtree[currentnode] + nodes_to_visit\n",
    "#     if not forwardtree[currentnode]:\n",
    "#         depthtree[depth].append(currentnode)\n",
    "# #         breaktracker[depth].add(reversetree[currentnode])\n",
    "#         depthtracker[currentnode] = depth\n",
    "#         depth = depth - 1\n",
    "#     else:\n",
    "#         breaktracker[depth-1].add(currentnode)\n",
    "\n",
    "# print(depthtree)\n",
    "# print(breaktracker)\n",
    "# ordered = sorted(range(0,838), key = lambda x:depthtracker[x], reverse = True)"
   ]
  },
  {
   "cell_type": "code",
   "execution_count": null,
   "metadata": {
    "scrolled": false
   },
   "outputs": [],
   "source": [
    "\n",
    "xs=[]\n",
    "ys=[]\n",
    "name=[]\n",
    "\n",
    "\n",
    "# yrange = {}\n",
    "# depth = max(parentdepth)\n",
    "\n",
    "# at each depth, figure out the y range that each parent overlooks. then check if it intersects with any other\n",
    "# parent at it's depth. If so, move to the closest end and space up/down as needed.\n",
    "# while depth > 0:\n",
    "#     for p in parentdepth[depth]:\n",
    "#         if for x in forwardtree[p] < 838:\n",
    "#             yrange[p] = [leaves.index(min(forwardtree[p])), leaves.index(max(forwardtree[p]))]\n",
    "#     for p in parentdepth[depth]:\n",
    "#         for x in parentdepth[depth]:\n",
    "#             bot, top = False\n",
    "#             if x is not p:\n",
    "#                 if yrange[p][0] in range(yrange[x][0], yrange[x][1]+1):\n",
    "#                     bot = True\n",
    "#                 if yrange[p][0] in range(yrange[x][0], yrange[x][1]+1):\n",
    "#                     top = True\n",
    "#                 if top and bottom:\n",
    "#                     # if parent p is fully inside parent x\n",
    "#                     choices = [yrange[p][1] - yrange[x][0] + 1, yrange[x][1] - yrange[p][0] + 1]\n",
    "#                     closest = min(choices)\n",
    "                    \n",
    "#                 elif top:\n",
    "#                     # if only the top is inside x\n",
    "#                     movedown = yrange[p][1] - yrange[x][0] + 1\n",
    "#                     for x in yrange[p]:\n",
    "#                         yrange[p][x] = x - movedown\n",
    "#                 elif bot:\n",
    "#                     # if only the bottom is inside x\n",
    "#                     moveup = yrange[x][1] - yrange[p][0] + 1\n",
    "#                     for x in yrange[p]:\n",
    "#                         yrange[p][x] = x + moveup\n",
    "#     depth = depth-1\n",
    "    \n",
    "yi=.5\n",
    "for x in leaves:\n",
    "    low = yi\n",
    "    xs.append([rleafdepth[x], 200])\n",
    "    ys.append([yi, yi])\n",
    "    name.append([df.index[y]])\n",
    "    yi = yi+1\n",
    "#     xs.append([x, x])\n",
    "#     ys.append([low, yi])\n",
    "#     name.append('lsl')\n",
    "\n",
    "\n",
    "dendro = figure(x_range = [0,40], y_range = [0,df.shape[0]+.5])\n",
    "dendro.multi_line(xs='xs', ys='ys', source=ColumnDataSource(dict(xs=xs, ys=ys, name=name)))\n",
    "h = HoverTool()\n",
    "h.tooltips = [(\"Molecule\", \"@name\")]\n",
    "dendro.add_tools(h)\n",
    "\n",
    "\n",
    "dendro.grid.grid_line_color = None\n",
    "dendro.axis.axis_line_color = None\n",
    "show(dendro)"
   ]
  },
  {
   "cell_type": "code",
   "execution_count": null,
   "metadata": {},
   "outputs": [],
   "source": [
    "#reshape the data to be easily understood by bokeh\n",
    "molecule = []\n",
    "attribute = []\n",
    "xs = []\n",
    "ys = []\n",
    "crange = ['#66ff66', '#00ffff', '#000099', '#6600ff', '#ff00ff', '#990099', '#ff0066', '#993333', '#ff9933', '#ffff00']\n",
    "colors = []\n",
    "alpha = []\n",
    "value = []\n",
    "\n",
    "# df = df.iloc[ordered]\n",
    "\n",
    "for i, m in enumerate(df.index):\n",
    "    molecule = molecule + [m]*len(df.columns)\n",
    "    attribute = attribute + df.columns.tolist()\n",
    "    colors = colors + crange*2\n",
    "    xs = xs + list(np.arange(0.5, len(df.columns)+0.5))\n",
    "    ys = ys + [i+0.5]*len(df.columns)\n",
    "    value = value + df.loc[m].tolist()\n",
    "    alpha = alpha + ndf.loc[m].tolist()\n",
    "\n",
    "data = pd.DataFrame(dict(\n",
    "        molecule = molecule,\n",
    "        attribute = attribute, \n",
    "        colors = colors,\n",
    "        xs = xs,\n",
    "        ys = ys,\n",
    "        value = value,\n",
    "        alpha = alpha\n",
    "              ))\n",
    "# color_mapper = LogColorMapper(palette=palette)\n",
    "source = ColumnDataSource(data)"
   ]
  },
  {
   "cell_type": "code",
   "execution_count": null,
   "metadata": {},
   "outputs": [],
   "source": [
    "#create tooltip and heatmap\n",
    "hover = HoverTool()\n",
    "\n",
    "hover.tooltips = [(\"Molecule\", \"@molecule\"), (\"Attribute\", \"@attribute\"), (\"Value\", \"@value\")]\n",
    "\n",
    "hm = figure(x_range=df.columns.tolist(), y_range=[0, df.shape[0]])\n",
    "hm.rect(x='xs', y='ys', height=1, width=1, source=source, fill_alpha='alpha', line_alpha=0.1, fill_color='colors')\n",
    "# for i, d in zip(icoord, dcoord):\n",
    "#     d = list(map(lambda x: -x, d))\n",
    "#     hm.line(x=d, y=i, line_color = 'black')\n",
    "\n",
    "hm.xaxis.major_label_orientation = pi/2\n",
    "hm.xaxis.major_label_text_font_size = '7pt'\n",
    "hm.axis.major_tick_line_color = None\n",
    "hm.axis.minor_tick_line_color = None\n",
    "hm.yaxis.major_label_text_color = None\n",
    "hm.grid.grid_line_color = None\n",
    "hm.axis.axis_line_color = None\n",
    "\n",
    "hm.add_tools(hover)\n",
    "show(hm)"
   ]
  },
  {
   "cell_type": "code",
   "execution_count": null,
   "metadata": {},
   "outputs": [],
   "source": []
  }
 ],
 "metadata": {
  "kernelspec": {
   "display_name": "Python 3",
   "language": "python",
   "name": "python3"
  },
  "language_info": {
   "codemirror_mode": {
    "name": "ipython",
    "version": 3
   },
   "file_extension": ".py",
   "mimetype": "text/x-python",
   "name": "python",
   "nbconvert_exporter": "python",
   "pygments_lexer": "ipython3",
   "version": "3.6.8"
  }
 },
 "nbformat": 4,
 "nbformat_minor": 2
}
