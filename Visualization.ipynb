{
 "cells": [
  {
   "cell_type": "code",
   "execution_count": 1,
   "metadata": {},
   "outputs": [],
   "source": [
    "import pandas as pd\n",
    "import numpy as np\n",
    "from bokeh.plotting import figure, output_notebook, show"
   ]
  },
  {
   "cell_type": "code",
   "execution_count": 2,
   "metadata": {
    "slideshow": {
     "slide_type": "-"
    }
   },
   "outputs": [],
   "source": [
    "df = pd.read_excel('HexaPropsAssay.xlsx')\n",
    "\n",
    "# print(df[~df.applymap(lambda x: not isinstance(x, (int, float)))])"
   ]
  },
  {
   "cell_type": "code",
   "execution_count": 22,
   "metadata": {},
   "outputs": [],
   "source": [
    "# def norm(df_column_name):\n",
    "#     input_array=np.array(df[df_column_name])\n",
    "#     if np.isnan(input_array).any():\n",
    "#         pass #do thing if the input_array contains any non-integer items\n",
    "#     else:\n",
    "#         return (input_array - np.min(input_array))/(np.max(input_array) - np.min(input_array))\n",
    "\n",
    "# from sklearn import preprocessing\n",
    "# x = df.values #returns a numpy array\n",
    "# min_max_scaler = preprocessing.MinMaxScaler()\n",
    "# x_scaled = min_max_scaler.fit_transform(x)\n",
    "# ndf = pandas.DataFrame(x_scaled)\n",
    "\n",
    "# ndf = pd.DataFrame({x:norm(x) for x in df.columns if x != 'Name'})\n",
    "factors = []\n",
    "for x in df.columns:\n",
    "    factors.append(x)\n",
    "\n",
    "hm = figure(title=\"Categorical Heatmap\", tools=\"hover\", toolbar_location=None,\n",
    "            x_range=factors, y_range=factors)\n",
    "colors = [\n",
    "    \"#0B486B\", \"#79BD9A\", \"#CFF09E\",\n",
    "    \"#79BD9A\", \"#0B486B\", \"#79BD9A\",\n",
    "    \"#CFF09E\", \"#79BD9A\", \"#0B486B\"\n",
    "]\n",
    "a = df.values\n",
    "p = figure(x_range=factors, y_range=(0, 2))\n",
    "p.image(image=[a], x=0, y=0, dw=2, dh=2, palette=\"Spectral11\")\n",
    "show(p)\n",
    "# output_notebook()"
   ]
  },
  {
   "cell_type": "code",
   "execution_count": null,
   "metadata": {},
   "outputs": [],
   "source": []
  }
 ],
 "metadata": {
  "kernelspec": {
   "display_name": "Python 3",
   "language": "python",
   "name": "python3"
  },
  "language_info": {
   "codemirror_mode": {
    "name": "ipython",
    "version": 3
   },
   "file_extension": ".py",
   "mimetype": "text/x-python",
   "name": "python",
   "nbconvert_exporter": "python",
   "pygments_lexer": "ipython3",
   "version": "3.6.8"
  }
 },
 "nbformat": 4,
 "nbformat_minor": 2
}
